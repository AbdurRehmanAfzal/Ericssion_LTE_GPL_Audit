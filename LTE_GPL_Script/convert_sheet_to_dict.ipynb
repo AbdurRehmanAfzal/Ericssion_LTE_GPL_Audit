{
 "cells": [
  {
   "cell_type": "code",
   "execution_count": 3,
   "metadata": {},
   "outputs": [
    {
     "name": "stdout",
     "output_type": "stream",
     "text": [
      "Data saved to foutput_data.json\n"
     ]
    }
   ],
   "source": [
    "import pandas as pd\n",
    "import json\n",
    "\n",
    "# Read the Excel file\n",
    "excel_file = '../LTE_GPL_Files/LTE_GPL_Sheet.xlsx'\n",
    "sheet_name = 'GPL_DATA'\n",
    "df = pd.read_excel(excel_file, sheet_name=sheet_name)\n",
    "\n",
    "# Convert DataFrame to a list of dictionaries\n",
    "data = []\n",
    "for _, row in df.iterrows():\n",
    "    filtered_row = {key: value for key, value in row.items() if pd.notnull(value) and value != ''}\n",
    "    data.append(filtered_row)\n",
    "\n",
    "# Save the list of dictionaries to a JSON file\n",
    "output_file = 'foutput_data.json'\n",
    "with open(output_file, 'w') as f:\n",
    "    json.dump(data, f, indent=4)\n",
    "\n",
    "print(f\"Data saved to {output_file}\")"
   ]
  }
 ],
 "metadata": {
  "kernelspec": {
   "display_name": "py311",
   "language": "python",
   "name": "python3"
  },
  "language_info": {
   "codemirror_mode": {
    "name": "ipython",
    "version": 3
   },
   "file_extension": ".py",
   "mimetype": "text/x-python",
   "name": "python",
   "nbconvert_exporter": "python",
   "pygments_lexer": "ipython3",
   "version": "3.11.9"
  }
 },
 "nbformat": 4,
 "nbformat_minor": 2
}
